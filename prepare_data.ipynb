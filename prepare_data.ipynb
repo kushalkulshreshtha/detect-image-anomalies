{
 "cells": [
  {
   "cell_type": "code",
   "execution_count": 2,
   "id": "3a1b089a-57f5-456a-af09-c32fb5810cff",
   "metadata": {},
   "outputs": [],
   "source": [
    "import os\n",
    "from multiprocessing import Pool, cpu_count\n",
    "from PIL import Image, ImageDraw, ImageFilter\n",
    "import numpy as np\n",
    "import cv2\n",
    "import glob\n",
    "from itertools import chain\n",
    "import random"
   ]
  },
  {
   "cell_type": "code",
   "execution_count": 3,
   "id": "1ac6fd10-00a7-45bd-bc9c-52655889e164",
   "metadata": {},
   "outputs": [],
   "source": [
    "num_images = 2000"
   ]
  },
  {
   "cell_type": "code",
   "execution_count": 4,
   "id": "81401bfc-6071-402c-ab29-908391d5f25a",
   "metadata": {},
   "outputs": [],
   "source": [
    "def add_crack(image_path, save_path, thickness=2):\n",
    "    # Load the image\n",
    "    image = Image.open(image_path).convert(\"RGB\")\n",
    "    open_cv_image = np.array(image)\n",
    "    open_cv_image = open_cv_image[:, :, ::-1].copy()\n",
    "\n",
    "    # Draw a crack line\n",
    "    height, width, _ = open_cv_image.shape\n",
    "    start_point = (np.random.randint(0, width), np.random.randint(0, height))\n",
    "    end_point = (np.random.randint(0, width), np.random.randint(0, height))\n",
    "    color = (1, 1, 1)  # white crack\n",
    "    cv2.line(open_cv_image, start_point, end_point, color, thickness)\n",
    "\n",
    "    # Convert back to PIL format and save\n",
    "    cracked_image = Image.fromarray(open_cv_image[:, :, ::-1])\n",
    "    cracked_image.save(save_path)\n",
    "\n",
    "def add_fade(image_path, save_path):\n",
    "    image = Image.open(image_path).convert(\"RGB\")\n",
    "    faded_image = image.filter(ImageFilter.GaussianBlur(radius=3))\n",
    "    faded_image.save(save_path)\n",
    "\n",
    "def add_smudge(image_path, save_path):\n",
    "    image = Image.open(image_path).convert(\"RGB\")\n",
    "    draw = ImageDraw.Draw(image)\n",
    "    width, height = image.size\n",
    "    for _ in range(2):\n",
    "        x, y = np.random.randint(0, width), np.random.randint(0, height)\n",
    "        draw.ellipse((x-10, y-10, x+10, y+10), fill=\"grey\", outline=\"grey\")\n",
    "    image.save(save_path)\n",
    "\n",
    "def process_image(image_path):\n",
    "    base_filename = os.path.basename(image_path).split('.')[0]\n",
    "\n",
    "    choice = np.random.randint(1,4)\n",
    "    if choice == 1:\n",
    "        add_crack(image_path, f'flawed_images/cracked_{base_filename}_{random.randint(0, 10000)}.jpg')\n",
    "    \n",
    "    elif choice == 2:\n",
    "        add_fade(image_path, f'flawed_images/faded_{base_filename}_{random.randint(0, 10000)}.jpg')\n",
    "    \n",
    "    else:\n",
    "        add_smudge(image_path, f'flawed_images/smudged_{base_filename}_{random.randint(0, 10000)}.jpg')"
   ]
  },
  {
   "cell_type": "code",
   "execution_count": null,
   "id": "501d2876-afd2-4ca9-b12b-21c0e9753c1b",
   "metadata": {},
   "outputs": [],
   "source": [
    "if __name__ == \"__main__\":\n",
    "\n",
    "    files = []\n",
    "    folders = glob.glob('Logo-2K+/*/*/*')\n",
    "    for folder in folders:\n",
    "        path = os.path.join(os.getcwd(), folder)\n",
    "        image_list = glob.glob(path + \"\\\\*.jpg\")\n",
    "        files.append(image_list)\n",
    "    \n",
    "    images = list(chain(*files))\n",
    "    image_paths = np.random.choice(images, size = num_images, replace = False)\n",
    "    print(f'read {len(images)} images; saving {len(image_paths)} images')\n",
    "    \n",
    "    if not os.path.exists('original_images'):\n",
    "        os.makedirs('original_images')\n",
    "        print('created folder named original images')\n",
    "    \n",
    "    for path in image_paths:\n",
    "        image = Image.open(path).convert(\"RGB\")\n",
    "        base_filename = os.path.basename(path).split('.')[0] + str(random.randint(0, 1000))\n",
    "        image.save(f'original_images/train_{base_filename}.jpg')\n",
    "    print('saved images')\n",
    "    \n",
    "    # Create output directory if it doesn't exist\n",
    "    if not os.path.exists('flawed_images'):\n",
    "        os.makedirs('flawed_images')\n",
    "\n",
    "    for path in image_paths:\n",
    "        process_image(path)\n",
    "    print('created flawed images')"
   ]
  }
 ],
 "metadata": {
  "kernelspec": {
   "display_name": "Python 3 (ipykernel)",
   "language": "python",
   "name": "python3"
  },
  "language_info": {
   "codemirror_mode": {
    "name": "ipython",
    "version": 3
   },
   "file_extension": ".py",
   "mimetype": "text/x-python",
   "name": "python",
   "nbconvert_exporter": "python",
   "pygments_lexer": "ipython3",
   "version": "3.10.13"
  }
 },
 "nbformat": 4,
 "nbformat_minor": 5
}
